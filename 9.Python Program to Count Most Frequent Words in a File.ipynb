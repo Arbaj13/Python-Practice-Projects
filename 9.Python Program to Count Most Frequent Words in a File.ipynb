{
 "cells": [
  {
   "cell_type": "code",
   "execution_count": 3,
   "id": "8e48a86a",
   "metadata": {},
   "outputs": [
    {
     "name": "stdout",
     "output_type": "stream",
     "text": [
      "[('the', 6), ('Lorem', 5), ('of', 4), ('Ipsum', 3), ('and', 3)]\n"
     ]
    }
   ],
   "source": [
    "words=[]\n",
    "with open(\"test.rtf\",\"r\")as a:\n",
    "    for line in a:\n",
    "        words.extend(line.split())\n",
    "from collections import Counter\n",
    "count=Counter(words)\n",
    "top5=count.most_common(5)\n",
    "print(top5)\n",
    "        \n",
    "    "
   ]
  },
  {
   "cell_type": "code",
   "execution_count": null,
   "id": "e0a02c05",
   "metadata": {},
   "outputs": [],
   "source": []
  },
  {
   "cell_type": "code",
   "execution_count": null,
   "id": "71a8473a",
   "metadata": {},
   "outputs": [],
   "source": []
  }
 ],
 "metadata": {
  "kernelspec": {
   "display_name": "Python 3",
   "language": "python",
   "name": "python3"
  },
  "language_info": {
   "codemirror_mode": {
    "name": "ipython",
    "version": 3
   },
   "file_extension": ".py",
   "mimetype": "text/x-python",
   "name": "python",
   "nbconvert_exporter": "python",
   "pygments_lexer": "ipython3",
   "version": "3.8.8"
  }
 },
 "nbformat": 4,
 "nbformat_minor": 5
}

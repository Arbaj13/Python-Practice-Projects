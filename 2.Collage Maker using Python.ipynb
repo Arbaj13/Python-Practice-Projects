{
 "cells": [
  {
   "cell_type": "markdown",
   "id": "41ebf856",
   "metadata": {},
   "source": [
    "# Collage Maker using Python"
   ]
  },
  {
   "cell_type": "code",
   "execution_count": null,
   "id": "4af9965b",
   "metadata": {},
   "outputs": [],
   "source": [
    "pip install Pillow\n",
    "#PIL library used in Python to read an image\n",
    "\n"
   ]
  },
  {
   "cell_type": "code",
   "execution_count": null,
   "id": "01e71717",
   "metadata": {},
   "outputs": [],
   "source": [
    "from PIL import Image"
   ]
  },
  {
   "cell_type": "code",
   "execution_count": null,
   "id": "9fb82883",
   "metadata": {},
   "outputs": [],
   "source": [
    "#Reading the image\n",
    "\n",
    "#Make sure images are of same size (I am using same image for ease.)"
   ]
  },
  {
   "cell_type": "code",
   "execution_count": null,
   "id": "29e82cc3",
   "metadata": {},
   "outputs": [],
   "source": [
    "X1=Image.open(\"dua.jpg\")\n",
    "X2=Image.open(\"dua.jpg\")\n",
    "X3=Image.open(\"dua.jpg\")"
   ]
  },
  {
   "cell_type": "code",
   "execution_count": null,
   "id": "4dbd7128",
   "metadata": {},
   "outputs": [],
   "source": [
    "#converting images to array"
   ]
  },
  {
   "cell_type": "code",
   "execution_count": null,
   "id": "18e35f1c",
   "metadata": {},
   "outputs": [],
   "source": [
    "X1_array=np.array(X1)\n",
    "X2_array=np.array(X2)\n",
    "X3_array=np.array(X3)"
   ]
  },
  {
   "cell_type": "code",
   "execution_count": null,
   "id": "4d296ab6",
   "metadata": {},
   "outputs": [],
   "source": [
    "collage = np.hstack([X1_array,X2_array,X3_array])"
   ]
  },
  {
   "cell_type": "code",
   "execution_count": null,
   "id": "4a8f6e32",
   "metadata": {},
   "outputs": [],
   "source": [
    "image = Image.fromarray(collage)\n",
    "image.save(\"beautifulDua.jpg\")"
   ]
  },
  {
   "cell_type": "code",
   "execution_count": null,
   "id": "9c01284c",
   "metadata": {},
   "outputs": [],
   "source": []
  },
  {
   "cell_type": "code",
   "execution_count": null,
   "id": "9a31bc58",
   "metadata": {},
   "outputs": [],
   "source": [
    "#Other way to do this same"
   ]
  },
  {
   "cell_type": "code",
   "execution_count": 10,
   "id": "04a73e59",
   "metadata": {},
   "outputs": [],
   "source": [
    "from PIL import Image\n"
   ]
  },
  {
   "cell_type": "code",
   "execution_count": 11,
   "id": "620aeca5",
   "metadata": {},
   "outputs": [],
   "source": [
    "import numpy as np"
   ]
  },
  {
   "cell_type": "code",
   "execution_count": 19,
   "id": "4d902487",
   "metadata": {},
   "outputs": [],
   "source": [
    "def collaeg_maker(image1,image2,name):\n",
    "    image1=Image.open(image1)\n",
    "    image2=Image.open(image2)\n",
    "    i1=np.array(image1)\n",
    "    i2=np.array(image2)\n",
    "    collage=np.vstack([i1,i2])\n",
    "    image=Image.fromarray(collage)\n",
    "    image.save(name)\n",
    "    \n",
    "    "
   ]
  },
  {
   "cell_type": "code",
   "execution_count": 24,
   "id": "fa8872d9",
   "metadata": {
    "scrolled": true
   },
   "outputs": [],
   "source": [
    "collaeg_maker(\"dua4.jpg\",\"dua4.jpg\",\"new.jpg\")"
   ]
  },
  {
   "cell_type": "code",
   "execution_count": null,
   "id": "774e9514",
   "metadata": {},
   "outputs": [],
   "source": []
  },
  {
   "cell_type": "code",
   "execution_count": null,
   "id": "b27c6d20",
   "metadata": {},
   "outputs": [],
   "source": []
  },
  {
   "cell_type": "code",
   "execution_count": null,
   "id": "c06ea089",
   "metadata": {},
   "outputs": [],
   "source": []
  }
 ],
 "metadata": {
  "kernelspec": {
   "display_name": "Python 3",
   "language": "python",
   "name": "python3"
  },
  "language_info": {
   "codemirror_mode": {
    "name": "ipython",
    "version": 3
   },
   "file_extension": ".py",
   "mimetype": "text/x-python",
   "name": "python",
   "nbconvert_exporter": "python",
   "pygments_lexer": "ipython3",
   "version": "3.8.8"
  }
 },
 "nbformat": 4,
 "nbformat_minor": 5
}

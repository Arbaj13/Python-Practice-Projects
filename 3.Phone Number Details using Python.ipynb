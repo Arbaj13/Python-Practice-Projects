{
 "cells": [
  {
   "cell_type": "markdown",
   "id": "8b80720e",
   "metadata": {},
   "source": [
    "# Phone Number Details using Python\n",
    "\n"
   ]
  },
  {
   "cell_type": "code",
   "execution_count": null,
   "id": "92217124",
   "metadata": {},
   "outputs": [],
   "source": [
    "pip install phonenumbers\n"
   ]
  },
  {
   "cell_type": "code",
   "execution_count": null,
   "id": "6f8ffa55",
   "metadata": {},
   "outputs": [],
   "source": [
    "#phonenumber details can be fetched by this module\n"
   ]
  },
  {
   "cell_type": "code",
   "execution_count": null,
   "id": "e07d196e",
   "metadata": {},
   "outputs": [],
   "source": [
    "import phonenumbers as ph"
   ]
  },
  {
   "cell_type": "code",
   "execution_count": null,
   "id": "401c7c02",
   "metadata": {},
   "outputs": [],
   "source": [
    "from phonenumbers import carrier"
   ]
  },
  {
   "cell_type": "code",
   "execution_count": null,
   "id": "26281ab2",
   "metadata": {},
   "outputs": [],
   "source": [
    "from phonenumbers import geocoder"
   ]
  },
  {
   "cell_type": "code",
   "execution_count": null,
   "id": "0f1b8a0f",
   "metadata": {},
   "outputs": [],
   "source": [
    "from phonenumbers import timezone"
   ]
  },
  {
   "cell_type": "code",
   "execution_count": null,
   "id": "590fad33",
   "metadata": {},
   "outputs": [],
   "source": [
    "#to find different funtion in Module\n",
    "dir(ph)"
   ]
  },
  {
   "cell_type": "code",
   "execution_count": null,
   "id": "2e23e04f",
   "metadata": {},
   "outputs": [],
   "source": [
    "number=\"+9198XXXXXXXX\"\n"
   ]
  },
  {
   "cell_type": "code",
   "execution_count": null,
   "id": "19892a4c",
   "metadata": {},
   "outputs": [],
   "source": [
    "#string representing a phone number using the parse function\n",
    "\n",
    "number=ph.parse(number)\n"
   ]
  },
  {
   "cell_type": "code",
   "execution_count": null,
   "id": "1d73d2be",
   "metadata": {},
   "outputs": [],
   "source": [
    "print(timezone.time_zones_for_number(number))"
   ]
  },
  {
   "cell_type": "code",
   "execution_count": null,
   "id": "5d32b02f",
   "metadata": {},
   "outputs": [],
   "source": [
    "print(carrier.name_for_number(number,\"en\"))"
   ]
  },
  {
   "cell_type": "code",
   "execution_count": null,
   "id": "fa946e5d",
   "metadata": {},
   "outputs": [],
   "source": [
    "print(geocoder.description_for_number(number,\"en\"))"
   ]
  },
  {
   "cell_type": "code",
   "execution_count": null,
   "id": "1ba88943",
   "metadata": {},
   "outputs": [],
   "source": []
  },
  {
   "cell_type": "code",
   "execution_count": null,
   "id": "0d71c0c4",
   "metadata": {},
   "outputs": [],
   "source": []
  }
 ],
 "metadata": {
  "kernelspec": {
   "display_name": "Python 3",
   "language": "python",
   "name": "python3"
  },
  "language_info": {
   "codemirror_mode": {
    "name": "ipython",
    "version": 3
   },
   "file_extension": ".py",
   "mimetype": "text/x-python",
   "name": "python",
   "nbconvert_exporter": "python",
   "pygments_lexer": "ipython3",
   "version": "3.8.8"
  }
 },
 "nbformat": 4,
 "nbformat_minor": 5
}

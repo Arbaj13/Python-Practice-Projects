{
 "cells": [
  {
   "cell_type": "markdown",
   "id": "a5bc5bac",
   "metadata": {},
   "source": [
    "# Internet Speed Test using Python"
   ]
  },
  {
   "cell_type": "code",
   "execution_count": null,
   "id": "6ed16ddf",
   "metadata": {},
   "outputs": [],
   "source": [
    "#installing speed test library "
   ]
  },
  {
   "cell_type": "code",
   "execution_count": null,
   "id": "05985e28",
   "metadata": {},
   "outputs": [],
   "source": [
    "pip install speedtest-cli"
   ]
  },
  {
   "cell_type": "code",
   "execution_count": 1,
   "id": "96225da8",
   "metadata": {},
   "outputs": [
    {
     "name": "stdout",
     "output_type": "stream",
     "text": [
      "Wifi Download Speed is  53616412.76104363\n",
      "Wifi Upload Speed is  87329910.83209828\n"
     ]
    }
   ],
   "source": [
    "import speedtest\n",
    "wifi= speedtest.Speedtest()\n",
    "\n",
    "print(\"Wifi Download Speed is \", wifi.download())\n",
    "print(\"Wifi Upload Speed is \", wifi.upload())"
   ]
  },
  {
   "cell_type": "code",
   "execution_count": null,
   "id": "f61ed481",
   "metadata": {},
   "outputs": [],
   "source": [
    "##other way"
   ]
  },
  {
   "cell_type": "code",
   "execution_count": null,
   "id": "45628a12",
   "metadata": {},
   "outputs": [],
   "source": []
  },
  {
   "cell_type": "code",
   "execution_count": null,
   "id": "d50f841c",
   "metadata": {
    "scrolled": true
   },
   "outputs": [],
   "source": [
    "# Python program to test\n",
    "\n",
    "# internet speed\n",
    "\n",
    "import speedtest\n",
    "\n",
    "\n",
    "\n",
    "st = speedtest.Speedtest()\n",
    "\n",
    "option = int(input('''speed test want to test:\n",
    "\n",
    "1) Download Speed\n",
    "\n",
    "2) Upload Speed\n",
    "\n",
    "3) Ping\n",
    "\n",
    "Your Choice: '''))\n",
    "\n",
    "\n",
    "if option == 1:\n",
    "\n",
    "\tprint(st.download())\n",
    "\n",
    "elif option == 2:\n",
    "\n",
    "\tprint(st.upload())\n",
    "\n",
    "elif option == 3:\n",
    "\n",
    "\tservernames =[\"www.youtube.com\"]\n",
    "\n",
    "\tst.get_servers(servernames)\n",
    "\n",
    "\tprint(st.results.ping)\n",
    "\n",
    "else:\n",
    "\n",
    "\tprint(\"Please enter the correct choice !\")\n",
    "\n",
    "\n",
    "    "
   ]
  },
  {
   "cell_type": "code",
   "execution_count": null,
   "id": "a8781e98",
   "metadata": {},
   "outputs": [],
   "source": []
  }
 ],
 "metadata": {
  "kernelspec": {
   "display_name": "Python 3",
   "language": "python",
   "name": "python3"
  },
  "language_info": {
   "codemirror_mode": {
    "name": "ipython",
    "version": 3
   },
   "file_extension": ".py",
   "mimetype": "text/x-python",
   "name": "python",
   "nbconvert_exporter": "python",
   "pygments_lexer": "ipython3",
   "version": "3.8.8"
  }
 },
 "nbformat": 4,
 "nbformat_minor": 5
}

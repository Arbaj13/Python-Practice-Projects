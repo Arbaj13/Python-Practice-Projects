{
 "cells": [
  {
   "cell_type": "code",
   "execution_count": 29,
   "id": "52324b2f",
   "metadata": {},
   "outputs": [],
   "source": [
    "def ip_address(address):\n",
    "    new_address = \"\"\n",
    "    split_address = address.split(\".\")\n",
    "    separator = \"[.]\"\n",
    "    new_address = separator.join(split_address)\n",
    "    return new_address\n"
   ]
  },
  {
   "cell_type": "code",
   "execution_count": 30,
   "id": "888ab2be",
   "metadata": {},
   "outputs": [
    {
     "data": {
      "text/plain": [
       "'192[.]196[.]179[.]4'"
      ]
     },
     "execution_count": 30,
     "metadata": {},
     "output_type": "execute_result"
    }
   ],
   "source": [
    "ip_address(\"192.196.179.4\")"
   ]
  },
  {
   "cell_type": "code",
   "execution_count": null,
   "id": "3a552a9a",
   "metadata": {},
   "outputs": [],
   "source": []
  },
  {
   "cell_type": "code",
   "execution_count": null,
   "id": "bd30c1f3",
   "metadata": {},
   "outputs": [],
   "source": []
  }
 ],
 "metadata": {
  "kernelspec": {
   "display_name": "Python 3",
   "language": "python",
   "name": "python3"
  },
  "language_info": {
   "codemirror_mode": {
    "name": "ipython",
    "version": 3
   },
   "file_extension": ".py",
   "mimetype": "text/x-python",
   "name": "python",
   "nbconvert_exporter": "python",
   "pygments_lexer": "ipython3",
   "version": "3.8.8"
  }
 },
 "nbformat": 4,
 "nbformat_minor": 5
}

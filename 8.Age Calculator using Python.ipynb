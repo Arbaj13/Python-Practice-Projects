{
 "cells": [
  {
   "cell_type": "code",
   "execution_count": 13,
   "id": "1668db41",
   "metadata": {},
   "outputs": [],
   "source": [
    "\n",
    "def ageCalculator(y,m,d):\n",
    "    import datetime\n",
    "    today=datetime.datetime.now().date()\n",
    "    dob=datetime.date(y,m,d)\n",
    "    age=int((today-dob).days/365.25)\n",
    "    print(age)\n",
    "    "
   ]
  },
  {
   "cell_type": "code",
   "execution_count": 14,
   "id": "170aa719",
   "metadata": {},
   "outputs": [
    {
     "name": "stdout",
     "output_type": "stream",
     "text": [
      "22\n"
     ]
    }
   ],
   "source": [
    "ageCalculator(1998,11,13)"
   ]
  },
  {
   "cell_type": "code",
   "execution_count": null,
   "id": "9d43d651",
   "metadata": {},
   "outputs": [],
   "source": []
  }
 ],
 "metadata": {
  "kernelspec": {
   "display_name": "Python 3",
   "language": "python",
   "name": "python3"
  },
  "language_info": {
   "codemirror_mode": {
    "name": "ipython",
    "version": 3
   },
   "file_extension": ".py",
   "mimetype": "text/x-python",
   "name": "python",
   "nbconvert_exporter": "python",
   "pygments_lexer": "ipython3",
   "version": "3.8.8"
  }
 },
 "nbformat": 4,
 "nbformat_minor": 5
}

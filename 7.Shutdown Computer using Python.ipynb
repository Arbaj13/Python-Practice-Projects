{
 "cells": [
  {
   "cell_type": "markdown",
   "id": "26650413",
   "metadata": {},
   "source": [
    "# Shutdown Computer using Python"
   ]
  },
  {
   "cell_type": "code",
   "execution_count": null,
   "id": "7c3e7d4a",
   "metadata": {},
   "outputs": [],
   "source": [
    "import os\n",
    "\n",
    "shutdown = input(\"Do you wish to shutdown your computer ? (yes / no): \")\n",
    "\n",
    "if shutdown == 'no':\n",
    "\texit()\n",
    "else:\n",
    "\tos.system(\"shutdown /s /t 0\")\n",
    "\n"
   ]
  },
  {
   "cell_type": "code",
   "execution_count": null,
   "id": "9d8f3793",
   "metadata": {},
   "outputs": [],
   "source": []
  }
 ],
 "metadata": {
  "kernelspec": {
   "display_name": "Python 3",
   "language": "python",
   "name": "python3"
  },
  "language_info": {
   "codemirror_mode": {
    "name": "ipython",
    "version": 3
   },
   "file_extension": ".py",
   "mimetype": "text/x-python",
   "name": "python",
   "nbconvert_exporter": "python",
   "pygments_lexer": "ipython3",
   "version": "3.8.8"
  }
 },
 "nbformat": 4,
 "nbformat_minor": 5
}

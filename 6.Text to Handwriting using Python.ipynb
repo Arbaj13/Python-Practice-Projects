{
 "cells": [
  {
   "cell_type": "markdown",
   "id": "717306d6",
   "metadata": {},
   "source": [
    "# Text to Handwriting using Python"
   ]
  },
  {
   "cell_type": "code",
   "execution_count": null,
   "id": "12a99320",
   "metadata": {},
   "outputs": [],
   "source": [
    "pip install pywhatkit"
   ]
  },
  {
   "cell_type": "code",
   "execution_count": null,
   "id": "be1d2736",
   "metadata": {},
   "outputs": [],
   "source": [
    "import pywhatkit as kit"
   ]
  },
  {
   "cell_type": "code",
   "execution_count": null,
   "id": "ba9a4689",
   "metadata": {},
   "outputs": [],
   "source": [
    "import cv2"
   ]
  },
  {
   "cell_type": "code",
   "execution_count": null,
   "id": "4f410e84",
   "metadata": {},
   "outputs": [],
   "source": [
    "kit.text_to_handwriting(\"Hello Dua\",save_to=\"duaWriting\")"
   ]
  },
  {
   "cell_type": "code",
   "execution_count": null,
   "id": "9d3f9071",
   "metadata": {},
   "outputs": [],
   "source": []
  }
 ],
 "metadata": {
  "kernelspec": {
   "display_name": "Python 3",
   "language": "python",
   "name": "python3"
  },
  "language_info": {
   "codemirror_mode": {
    "name": "ipython",
    "version": 3
   },
   "file_extension": ".py",
   "mimetype": "text/x-python",
   "name": "python",
   "nbconvert_exporter": "python",
   "pygments_lexer": "ipython3",
   "version": "3.8.8"
  }
 },
 "nbformat": 4,
 "nbformat_minor": 5
}

{
 "cells": [
  {
   "cell_type": "markdown",
   "id": "717306d6",
   "metadata": {},
   "source": [
    "# Text to Handwriting using Python"
   ]
  },
  {
   "cell_type": "code",
   "execution_count": null,
   "id": "12a99320",
   "metadata": {},
   "outputs": [],
   "source": [
    "pip install pywhatkit"
   ]
  },
  {
   "cell_type": "code",
   "execution_count": null,
   "id": "be1d2736",
   "metadata": {},
   "outputs": [],
   "source": [
    "import pywhatkit as kit"
   ]
  },
  {
   "cell_type": "code",
   "execution_count": null,
   "id": "ba9a4689",
   "metadata": {},
   "outputs": [],
   "source": [
    "import cv2"
   ]
  },
  {
   "cell_type": "code",
   "execution_count": null,
   "id": "10d76a46",
   "metadata": {},
   "outputs": [],
   "source": [
    "kit.text_to_handwriting(\"Hello Dua\")"
   ]
  },
  {
   "cell_type": "code",
   "execution_count": null,
   "id": "f7a7611e",
   "metadata": {},
   "outputs": [],
   "source": [
    "save_to=\"duahand.jpg\""
   ]
  },
  {
   "cell_type": "code",
   "execution_count": null,
   "id": "c05714b2",
   "metadata": {},
   "outputs": [],
   "source": [
    "img=cv2.imread(\"duahand.jpg\")"
   ]
  },
  {
   "cell_type": "code",
   "execution_count": null,
   "id": "1b099b35",
   "metadata": {},
   "outputs": [],
   "source": [
    "cv2.imshow(\"Text to handwriting\",img)"
   ]
  },
  {
   "cell_type": "code",
   "execution_count": null,
   "id": "4ff3652e",
   "metadata": {},
   "outputs": [],
   "source": [
    "cv2.waitKey(0)"
   ]
  },
  {
   "cell_type": "code",
   "execution_count": null,
   "id": "f4ce77cd",
   "metadata": {},
   "outputs": [],
   "source": [
    "cv2."
   ]
  },
  {
   "cell_type": "code",
   "execution_count": 4,
   "id": "705fa016",
   "metadata": {},
   "outputs": [],
   "source": [
    "import pywhatkit as kit\n",
    "import cv2\n",
    "\n",
    "kit.text_to_handwriting(\"Hope you are doing well\", save_to=\"handwriting.png\")\n"
   ]
  },
  {
   "cell_type": "code",
   "execution_count": null,
   "id": "4d2cc0c9",
   "metadata": {},
   "outputs": [],
   "source": [
    "img = cv2.imread(\"handwriting.png\")\n",
    "cv2.imshow(\"Text to Handwriting\", img)\n",
    "cv2.waitKey(0)\n",
    "cv2.destroyAllWindows()\n"
   ]
  },
  {
   "cell_type": "code",
   "execution_count": null,
   "id": "4002598b",
   "metadata": {},
   "outputs": [],
   "source": []
  }
 ],
 "metadata": {
  "kernelspec": {
   "display_name": "Python 3",
   "language": "python",
   "name": "python3"
  },
  "language_info": {
   "codemirror_mode": {
    "name": "ipython",
    "version": 3
   },
   "file_extension": ".py",
   "mimetype": "text/x-python",
   "name": "python",
   "nbconvert_exporter": "python",
   "pygments_lexer": "ipython3",
   "version": "3.8.8"
  }
 },
 "nbformat": 4,
 "nbformat_minor": 5
}

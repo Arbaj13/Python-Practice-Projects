{
 "cells": [
  {
   "cell_type": "markdown",
   "id": "bbfd0b96",
   "metadata": {},
   "source": [
    "# # Create Font Art using Python\n"
   ]
  },
  {
   "cell_type": "code",
   "execution_count": null,
   "id": "1d997feb",
   "metadata": {},
   "outputs": [],
   "source": []
  },
  {
   "cell_type": "code",
   "execution_count": 4,
   "id": "1ccf6f12",
   "metadata": {},
   "outputs": [],
   "source": [
    "import pyfiglet as pf\n"
   ]
  },
  {
   "cell_type": "code",
   "execution_count": 41,
   "id": "31e0a2c7",
   "metadata": {},
   "outputs": [],
   "source": [
    "font=pf.figlet_format(\"Arbaj Pathan\", font='lean')\n",
    "\n",
    "##for more fonts check http://www.figlet.org/fontdb.cgi\n"
   ]
  },
  {
   "cell_type": "code",
   "execution_count": 39,
   "id": "b5f4184b",
   "metadata": {
    "scrolled": true
   },
   "outputs": [
    {
     "name": "stdout",
     "output_type": "stream",
     "text": [
      "                                                 \n",
      "      _/_/              _/                  _/   \n",
      "   _/    _/  _/  _/_/  _/_/_/      _/_/_/        \n",
      "  _/_/_/_/  _/_/      _/    _/  _/    _/  _/     \n",
      " _/    _/  _/        _/    _/  _/    _/  _/      \n",
      "_/    _/  _/        _/_/_/      _/_/_/  _/       \n",
      "                                       _/        \n",
      "                                    _/           \n",
      "                                                               \n",
      "    _/_/_/                _/      _/                           \n",
      "   _/    _/    _/_/_/  _/_/_/_/  _/_/_/      _/_/_/  _/_/_/    \n",
      "  _/_/_/    _/    _/    _/      _/    _/  _/    _/  _/    _/   \n",
      " _/        _/    _/    _/      _/    _/  _/    _/  _/    _/    \n",
      "_/          _/_/_/      _/_/  _/    _/    _/_/_/  _/    _/     \n",
      "                                                               \n",
      "                                                               \n",
      "\n"
     ]
    }
   ],
   "source": [
    "print(font)"
   ]
  },
  {
   "cell_type": "code",
   "execution_count": null,
   "id": "bbd19b77",
   "metadata": {},
   "outputs": [],
   "source": []
  }
 ],
 "metadata": {
  "kernelspec": {
   "display_name": "Python 3",
   "language": "python",
   "name": "python3"
  },
  "language_info": {
   "codemirror_mode": {
    "name": "ipython",
    "version": 3
   },
   "file_extension": ".py",
   "mimetype": "text/x-python",
   "name": "python",
   "nbconvert_exporter": "python",
   "pygments_lexer": "ipython3",
   "version": "3.8.8"
  }
 },
 "nbformat": 4,
 "nbformat_minor": 5
}

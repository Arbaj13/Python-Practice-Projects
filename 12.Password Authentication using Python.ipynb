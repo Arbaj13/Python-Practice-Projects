{
 "cells": [
  {
   "cell_type": "code",
   "execution_count": 2,
   "id": "9b4233e4",
   "metadata": {},
   "outputs": [],
   "source": [
    "import getpass\n"
   ]
  },
  {
   "cell_type": "code",
   "execution_count": 3,
   "id": "0bc198e0",
   "metadata": {},
   "outputs": [],
   "source": [
    "database={\"Dua\": \"123\",\"Lipa\":\"234\"}\n"
   ]
  },
  {
   "cell_type": "code",
   "execution_count": 6,
   "id": "64a7d87e",
   "metadata": {},
   "outputs": [
    {
     "name": "stdout",
     "output_type": "stream",
     "text": [
      "Enter your username:  Dua\n",
      "Enter your pasword: ········\n",
      "Enter your password again: ········\n",
      "Enter your password again: ········\n",
      "verified\n"
     ]
    }
   ],
   "source": [
    "username=input(\"Enter your username:  \")\n",
    "password=getpass.getpass(\"Enter your pasword: \")\n",
    "\n",
    "for i in database.keys():\n",
    "    if username==i:\n",
    "        while password!=database.get(i):\n",
    "            password=getpass.getpass(\"Enter your password again: \")\n",
    "        \n",
    "    print(\"verified\") \n",
    "    break\n",
    "else:\n",
    "    print('Enter valid username or password')\n",
    "       "
   ]
  },
  {
   "cell_type": "code",
   "execution_count": null,
   "id": "14ff3a76",
   "metadata": {},
   "outputs": [],
   "source": []
  }
 ],
 "metadata": {
  "kernelspec": {
   "display_name": "Python 3",
   "language": "python",
   "name": "python3"
  },
  "language_info": {
   "codemirror_mode": {
    "name": "ipython",
    "version": 3
   },
   "file_extension": ".py",
   "mimetype": "text/x-python",
   "name": "python",
   "nbconvert_exporter": "python",
   "pygments_lexer": "ipython3",
   "version": "3.8.8"
  }
 },
 "nbformat": 4,
 "nbformat_minor": 5
}

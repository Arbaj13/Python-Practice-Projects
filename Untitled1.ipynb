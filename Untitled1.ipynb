{
 "cells": [
  {
   "cell_type": "code",
   "execution_count": 4,
   "id": "f34820b4",
   "metadata": {},
   "outputs": [],
   "source": [
    "import pyfiglet as pf\n"
   ]
  },
  {
   "cell_type": "code",
   "execution_count": 33,
   "id": "e444ef8e",
   "metadata": {},
   "outputs": [],
   "source": [
    "font=pf.figlet_format(\"Arbaj Pathan\", font='lean')\n"
   ]
  },
  {
   "cell_type": "code",
   "execution_count": 34,
   "id": "d17f7e4a",
   "metadata": {},
   "outputs": [
    {
     "name": "stdout",
     "output_type": "stream",
     "text": [
      "                                                 \n",
      "      _/_/              _/                  _/   \n",
      "   _/    _/  _/  _/_/  _/_/_/      _/_/_/        \n",
      "  _/_/_/_/  _/_/      _/    _/  _/    _/  _/     \n",
      " _/    _/  _/        _/    _/  _/    _/  _/      \n",
      "_/    _/  _/        _/_/_/      _/_/_/  _/       \n",
      "                                       _/        \n",
      "                                    _/           \n",
      "                                                               \n",
      "    _/_/_/                _/      _/                           \n",
      "   _/    _/    _/_/_/  _/_/_/_/  _/_/_/      _/_/_/  _/_/_/    \n",
      "  _/_/_/    _/    _/    _/      _/    _/  _/    _/  _/    _/   \n",
      " _/        _/    _/    _/      _/    _/  _/    _/  _/    _/    \n",
      "_/          _/_/_/      _/_/  _/    _/    _/_/_/  _/    _/     \n",
      "                                                               \n",
      "                                                               \n",
      "\n"
     ]
    }
   ],
   "source": [
    "print(font)"
   ]
  },
  {
   "cell_type": "code",
   "execution_count": null,
   "id": "3e43fef9",
   "metadata": {},
   "outputs": [],
   "source": []
  },
  {
   "cell_type": "code",
   "execution_count": null,
   "id": "2ec6e281",
   "metadata": {},
   "outputs": [],
   "source": []
  },
  {
   "cell_type": "code",
   "execution_count": null,
   "id": "048c4cc6",
   "metadata": {},
   "outputs": [],
   "source": []
  }
 ],
 "metadata": {
  "kernelspec": {
   "display_name": "Python 3",
   "language": "python",
   "name": "python3"
  },
  "language_info": {
   "codemirror_mode": {
    "name": "ipython",
    "version": 3
   },
   "file_extension": ".py",
   "mimetype": "text/x-python",
   "name": "python",
   "nbconvert_exporter": "python",
   "pygments_lexer": "ipython3",
   "version": "3.8.8"
  }
 },
 "nbformat": 4,
 "nbformat_minor": 5
}
